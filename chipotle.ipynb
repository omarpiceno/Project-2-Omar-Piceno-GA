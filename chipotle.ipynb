{
 "cells": [
  {
   "cell_type": "markdown",
   "metadata": {},
   "source": [
    "<img src=\"http://imgur.com/1ZcRyrc.png\" style=\"float: left; margin: 20px; height: 55px\">\n",
    "\n",
    "# Project 2: Analyzing Chipotle Data\n",
    "\n",
    "_Author: Joseph Nelson (DC)_\n",
    "\n",
    "---"
   ]
  },
  {
   "cell_type": "markdown",
   "metadata": {},
   "source": [
    "For Project 2, you will complete a series of exercises exploring [order data from Chipotle](https://github.com/TheUpshot/chipotle), compliments of _The New York Times'_ \"The Upshot.\"\n",
    "\n",
    "For these exercises, you will conduct basic exploratory data analysis (Pandas not required) to understand the essentials of Chipotle's order data: how many orders are being made, the average price per order, how many different ingredients are used, etc. These allow you to practice business analysis skills while also becoming comfortable with Python."
   ]
  },
  {
   "cell_type": "markdown",
   "metadata": {},
   "source": [
    "---\n",
    "\n",
    "## Basic Level"
   ]
  },
  {
   "cell_type": "markdown",
   "metadata": {},
   "source": [
    "### Part 1: Read in the file with `csv.reader()` and store it in an object called `file_nested_list`.\n",
    "\n",
    "Hint: This is a TSV (tab-separated value) file, and `csv.reader()` needs to be told [how to handle it](https://docs.python.org/2/library/csv.html)."
   ]
  },
  {
   "cell_type": "code",
   "execution_count": 1,
   "metadata": {},
   "outputs": [],
   "source": [
    "import csv\n",
    "from collections import namedtuple   # Convenient to store the data rows\n",
    "\n",
    "DATA_FILE = './data/chipotle.tsv'"
   ]
  },
  {
   "cell_type": "code",
   "execution_count": 2,
   "metadata": {},
   "outputs": [
    {
     "name": "stdout",
     "output_type": "stream",
     "text": [
      "['1834', '1', 'Chicken Salad Bowl', '[Fresh Tomato Salsa, [Fajita Vegetables, Pinto Beans, Lettuce]]', '$8.75 ']\n"
     ]
    }
   ],
   "source": [
    "with open(DATA_FILE,'r') as f:\n",
    "    file_nested_list = csv.reader(f,delimiter='\\t')\n",
    "    row = [row for row in file_nested_list]\n",
    "    print(row[4622])"
   ]
  },
  {
   "cell_type": "markdown",
   "metadata": {},
   "source": [
    "### Part 2: Separate `file_nested_list` into the `header` and the `data`.\n"
   ]
  },
  {
   "cell_type": "code",
   "execution_count": 3,
   "metadata": {},
   "outputs": [
    {
     "data": {
      "text/plain": [
       "['order_id', 'quantity', 'item_name', 'choice_description', 'item_price']"
      ]
     },
     "execution_count": 3,
     "metadata": {},
     "output_type": "execute_result"
    }
   ],
   "source": [
    "header = row[0]\n",
    "header"
   ]
  },
  {
   "cell_type": "code",
   "execution_count": 29,
   "metadata": {},
   "outputs": [],
   "source": [
    "data = row[1:]"
   ]
  },
  {
   "cell_type": "markdown",
   "metadata": {},
   "source": [
    "---\n",
    "\n",
    "## Intermediate Level"
   ]
  },
  {
   "cell_type": "markdown",
   "metadata": {},
   "source": [
    "### Part 3: Calculate the average price of an order.\n",
    "\n",
    "Hint: Examine the data to see if the `quantity` column is relevant to this calculation.\n",
    "\n",
    "Hint: Think carefully about the simplest way to do this!"
   ]
  },
  {
   "cell_type": "code",
   "execution_count": null,
   "metadata": {},
   "outputs": [],
   "source": []
  },
  {
   "cell_type": "code",
   "execution_count": 5,
   "metadata": {},
   "outputs": [
    {
     "name": "stdout",
     "output_type": "stream",
     "text": [
      "The average price is $21.394\n"
     ]
    }
   ],
   "source": [
    "price_per_order = 0\n",
    "count = 0\n",
    "total_order_price=[]\n",
    "\n",
    "for index,line in enumerate(data):\n",
    "    \n",
    "    next_index = index + 1\n",
    "    price = int(line[1]) * float(line[4].strip('$'))\n",
    "    second_to_last_index = len(data) - 2\n",
    "    \n",
    "    if index < (len(data)-1):\n",
    "        next_price = float(data[next_index][4].strip('$'))\n",
    "        if data[index][0] == data[next_index][0] and index == 0:\n",
    "            price_per_order = price \n",
    "        elif data[index][0] == data[next_index][0]:\n",
    "            price_per_order += price\n",
    "        else:\n",
    "            price_per_order += price\n",
    "            total_order_price.append(price_per_order)\n",
    "            count += 1\n",
    "            price_per_order = 0 \n",
    "            \n",
    "    else:\n",
    "        if line[0] == data[second_to_last_index][0]:\n",
    "            price_per_order += price\n",
    "            total_order_price.append(price_per_order)\n",
    "            count += 1\n",
    "        else:\n",
    "            total_order_price.append(price)\n",
    "            count += 1\n",
    "\n",
    "average_price = sum(total_order_price)/count\n",
    "print('The average price is ${0:.3f}'.format(average_price))\n"
   ]
  },
  {
   "cell_type": "markdown",
   "metadata": {},
   "source": [
    "### Part 4: Create a list (or set) named `unique_sodas` containing all of unique sodas and soft drinks that Chipotle sells.\n",
    "\n",
    "Note: Just look for `'Canned Soda'` and `'Canned Soft Drink'`, and ignore other drinks like `'Izze'`."
   ]
  },
  {
   "cell_type": "code",
   "execution_count": 6,
   "metadata": {},
   "outputs": [
    {
     "data": {
      "text/plain": [
       "['order_id', 'quantity', 'item_name', 'choice_description', 'item_price']"
      ]
     },
     "execution_count": 6,
     "metadata": {},
     "output_type": "execute_result"
    }
   ],
   "source": [
    "header"
   ]
  },
  {
   "cell_type": "code",
   "execution_count": 7,
   "metadata": {},
   "outputs": [],
   "source": [
    "items = [data[x][2] for x in range(len(data)-1)]"
   ]
  },
  {
   "cell_type": "code",
   "execution_count": 8,
   "metadata": {},
   "outputs": [
    {
     "name": "stdout",
     "output_type": "stream",
     "text": [
      "Chipotle sold 104 canned sodas and 301 canned soft drink\n"
     ]
    }
   ],
   "source": [
    "sodas=[]\n",
    "for item in items:\n",
    "    if item == 'Canned Soda' or item =='Canned Soft Drink':\n",
    "        sodas.append(item)\n",
    "count_soda = sodas.count('Canned Soda')\n",
    "count_soft_drink = sodas.count('Canned Soft Drink')\n",
    "print('Chipotle sold {0} canned sodas and {1} canned soft drink'.format(count_soda,count_soft_drink))\n"
   ]
  },
  {
   "cell_type": "code",
   "execution_count": 9,
   "metadata": {},
   "outputs": [
    {
     "data": {
      "text/plain": [
       "['Sprite',\n",
       " 'Dr. Pepper',\n",
       " 'Mountain Dew',\n",
       " 'Sprite',\n",
       " 'Dr. Pepper',\n",
       " 'Diet Dr. Pepper',\n",
       " 'Coca Cola',\n",
       " 'Diet Coke',\n",
       " 'Diet Dr. Pepper',\n",
       " 'Coca Cola',\n",
       " 'Dr. Pepper',\n",
       " 'Coca Cola',\n",
       " 'Diet Coke',\n",
       " 'Mountain Dew',\n",
       " 'Mountain Dew',\n",
       " 'Dr. Pepper',\n",
       " 'Mountain Dew',\n",
       " 'Diet Dr. Pepper',\n",
       " 'Mountain Dew',\n",
       " 'Coca Cola',\n",
       " 'Diet Coke',\n",
       " 'Diet Coke',\n",
       " 'Coca Cola',\n",
       " 'Diet Coke',\n",
       " 'Mountain Dew',\n",
       " 'Dr. Pepper',\n",
       " 'Coca Cola',\n",
       " 'Dr. Pepper',\n",
       " 'Diet Dr. Pepper',\n",
       " 'Dr. Pepper',\n",
       " 'Sprite',\n",
       " 'Coca Cola',\n",
       " 'Coca Cola',\n",
       " 'Diet Coke',\n",
       " 'Mountain Dew',\n",
       " 'Coca Cola',\n",
       " 'Mountain Dew',\n",
       " 'Coca Cola',\n",
       " 'Sprite',\n",
       " 'Diet Dr. Pepper',\n",
       " 'Mountain Dew',\n",
       " 'Dr. Pepper',\n",
       " 'Coca Cola',\n",
       " 'Dr. Pepper',\n",
       " 'Diet Coke',\n",
       " 'Diet Dr. Pepper',\n",
       " 'Sprite',\n",
       " 'Coca Cola',\n",
       " 'Sprite',\n",
       " 'Sprite',\n",
       " 'Mountain Dew',\n",
       " 'Diet Coke',\n",
       " 'Sprite',\n",
       " 'Dr. Pepper',\n",
       " 'Coca Cola',\n",
       " 'Dr. Pepper',\n",
       " 'Diet Coke',\n",
       " 'Diet Coke',\n",
       " 'Mountain Dew',\n",
       " 'Sprite',\n",
       " 'Coca Cola',\n",
       " 'Coca Cola',\n",
       " 'Coca Cola',\n",
       " 'Diet Dr. Pepper',\n",
       " 'Diet Coke',\n",
       " 'Coca Cola',\n",
       " 'Mountain Dew',\n",
       " 'Sprite',\n",
       " 'Sprite',\n",
       " 'Diet Dr. Pepper',\n",
       " 'Coca Cola',\n",
       " 'Coca Cola',\n",
       " 'Diet Coke',\n",
       " 'Coca Cola',\n",
       " 'Sprite',\n",
       " 'Sprite',\n",
       " 'Coca Cola',\n",
       " 'Diet Dr. Pepper',\n",
       " 'Dr. Pepper',\n",
       " 'Diet Dr. Pepper',\n",
       " 'Dr. Pepper',\n",
       " 'Coca Cola',\n",
       " 'Mountain Dew',\n",
       " 'Sprite',\n",
       " 'Coca Cola',\n",
       " 'Sprite',\n",
       " 'Coca Cola',\n",
       " 'Dr. Pepper',\n",
       " 'Diet Dr. Pepper',\n",
       " 'Dr. Pepper',\n",
       " 'Coca Cola',\n",
       " 'Diet Coke',\n",
       " 'Coca Cola',\n",
       " 'Dr. Pepper',\n",
       " 'Dr. Pepper',\n",
       " 'Diet Dr. Pepper',\n",
       " 'Sprite',\n",
       " 'Diet Coke',\n",
       " 'Mountain Dew',\n",
       " 'Mountain Dew',\n",
       " 'Dr. Pepper',\n",
       " 'Diet Dr. Pepper',\n",
       " 'Diet Coke',\n",
       " 'Sprite']"
      ]
     },
     "execution_count": 9,
     "metadata": {},
     "output_type": "execute_result"
    }
   ],
   "source": [
    "unique_sodas = []\n",
    "for index,rows in enumerate(data):\n",
    "    if rows[2] == 'Canned Soda' or rows[2] == 'Canned Soft drink':\n",
    "        unique_sodas.append(rows[3].strip('[]'))\n",
    "unique_sodas  "
   ]
  },
  {
   "cell_type": "markdown",
   "metadata": {},
   "source": [
    "---\n",
    "\n",
    "## Advanced Level\n"
   ]
  },
  {
   "cell_type": "markdown",
   "metadata": {},
   "source": [
    "### Part 5: Calculate the average number of toppings per burrito.\n",
    "\n",
    "Note: Let's ignore the `quantity` column to simplify this task.\n",
    "\n",
    "Hint: Think carefully about the easiest way to count the number of toppings!\n"
   ]
  },
  {
   "cell_type": "code",
   "execution_count": 10,
   "metadata": {},
   "outputs": [
    {
     "data": {
      "text/plain": [
       "['order_id', 'quantity', 'item_name', 'choice_description', 'item_price']"
      ]
     },
     "execution_count": 10,
     "metadata": {},
     "output_type": "execute_result"
    }
   ],
   "source": [
    "header "
   ]
  },
  {
   "cell_type": "code",
   "execution_count": 12,
   "metadata": {},
   "outputs": [
    {
     "name": "stdout",
     "output_type": "stream",
     "text": [
      "The average number of toppings per burrito is: 5.395051194539249\n"
     ]
    }
   ],
   "source": [
    "count = 0\n",
    "sum_toppings = 0\n",
    "for rows in data:\n",
    "    item = rows[2]\n",
    "    if 'Burrito' in item:\n",
    "        count += 1\n",
    "        toppings = rows[3]\n",
    "        toppings_per_order = toppings.count(',') + 1\n",
    "        sum_toppings += toppings_per_order\n",
    "\n",
    "average_toppings = sum_toppings / count\n",
    "print('The average number of toppings per burrito is: {}'.format(average_toppings))      "
   ]
  },
  {
   "cell_type": "markdown",
   "metadata": {},
   "source": [
    "### Part 6: Create a dictionary. Let the keys represent chip orders and the values represent the total number of orders.\n",
    "\n",
    "Expected output: `{'Chips and Roasted Chili-Corn Salsa': 18, ... }`\n",
    "\n",
    "Note: Please take the `quantity` column into account!\n",
    "\n",
    "Optional: Learn how to use `.defaultdict()` to simplify your code."
   ]
  },
  {
   "cell_type": "code",
   "execution_count": 24,
   "metadata": {},
   "outputs": [
    {
     "data": {
      "text/plain": [
       "{'Chips': 211,\n",
       " 'Chips and Fresh Tomato Salsa': 110,\n",
       " 'Chips and Guacamole': 479,\n",
       " 'Chips and Mild Fresh Tomato Salsa': 1,\n",
       " 'Chips and Roasted Chili Corn Salsa': 40,\n",
       " 'Chips and Tomatillo Green Chili Salsa': 74,\n",
       " 'Chips and Tomatillo Red Chili Salsa': 68,\n",
       " 'Side of Chips': 101}"
      ]
     },
     "execution_count": 24,
     "metadata": {},
     "output_type": "execute_result"
    }
   ],
   "source": [
    "order_chips = {}\n",
    "for row in data:\n",
    "    row[2] = row[2].replace('-',' ')\n",
    "    if 'Chips' in row[2]:\n",
    "        if row[2] not in order_chips:\n",
    "            order_chips[row[2]] = 1\n",
    "        else:\n",
    "            order_chips[row[2]] += 1\n",
    "order_chips"
   ]
  },
  {
   "cell_type": "markdown",
   "metadata": {},
   "source": [
    "---\n",
    "\n",
    "## Bonus: Craft a problem statement about this data that interests you, and then answer it!\n"
   ]
  },
  {
   "cell_type": "code",
   "execution_count": null,
   "metadata": {},
   "outputs": [],
   "source": []
  },
  {
   "cell_type": "code",
   "execution_count": null,
   "metadata": {},
   "outputs": [],
   "source": []
  },
  {
   "cell_type": "code",
   "execution_count": null,
   "metadata": {},
   "outputs": [],
   "source": []
  },
  {
   "cell_type": "code",
   "execution_count": null,
   "metadata": {},
   "outputs": [],
   "source": []
  }
 ],
 "metadata": {
  "anaconda-cloud": {},
  "kernelspec": {
   "display_name": "Python 3",
   "language": "python",
   "name": "python3"
  },
  "language_info": {
   "codemirror_mode": {
    "name": "ipython",
    "version": 3
   },
   "file_extension": ".py",
   "mimetype": "text/x-python",
   "name": "python",
   "nbconvert_exporter": "python",
   "pygments_lexer": "ipython3",
   "version": "3.6.4"
  }
 },
 "nbformat": 4,
 "nbformat_minor": 2
}
